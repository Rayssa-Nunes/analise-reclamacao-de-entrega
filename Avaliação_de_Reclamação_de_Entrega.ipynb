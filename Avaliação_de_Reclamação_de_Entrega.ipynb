{
  "nbformat": 4,
  "nbformat_minor": 0,
  "metadata": {
    "colab": {
      "provenance": [],
      "toc_visible": true,
      "authorship_tag": "ABX9TyMUoaKbh5hhudEM26wK34Ul",
      "include_colab_link": true
    },
    "kernelspec": {
      "name": "python3",
      "display_name": "Python 3"
    },
    "language_info": {
      "name": "python"
    }
  },
  "cells": [
    {
      "cell_type": "markdown",
      "metadata": {
        "id": "view-in-github",
        "colab_type": "text"
      },
      "source": [
        "<a href=\"https://colab.research.google.com/github/Rayssa-Nunes/analise-reclamacao-de-entrega/blob/main/Avalia%C3%A7%C3%A3o_de_Reclama%C3%A7%C3%A3o_de_Entrega.ipynb\" target=\"_parent\"><img src=\"https://colab.research.google.com/assets/colab-badge.svg\" alt=\"Open In Colab\"/></a>"
      ]
    },
    {
      "cell_type": "markdown",
      "source": [
        "# Avaliação de Casos de Reclamação em Entregas\n",
        "\n",
        "Você faz parte do time de logística em uma empresa de caminhões tanque. Esses caminhões podem transportar grandes quantidades de líquidos e gases liquefeitos para realizar entregas em clientes.\n",
        "\n",
        "Em um projeto novo, seu time uniu-se ao time de experiência do cliente para avaliar situações de reclamações de entrega e KPIs logísticos no geral. O objetivo principal é tentar entender quais parâmetros estão causando as possíveis insatisfações nos clientes e trabalhar preventivamente para evitar isso.\n",
        "\n",
        "Uma base contendo viagens dos últimos três meses foi disponibilizada, de maneira que você consiga fazer as primeiras análises descritivas. Algumas perguntas já foram levantadas e precisam ser respondidas, a intenção é que elas sejam apresentadas na próxima reunião de alinhamento do projeto!\n"
      ],
      "metadata": {
        "id": "6e9E2O4Q59LY"
      }
    },
    {
      "cell_type": "markdown",
      "source": [
        "**Base de Dados**\n",
        "A base contém informações como:\n",
        "\n",
        "- ID da viagem: Código identificador único de cada viagem feita\n",
        "- Número de entregas: Quantas entregas foram realizadas durante a viagem executada\n",
        "- Tipo de caminhão: Qual o tipo de caminhão utilizado no transporte da carga\n",
        "- Produto: Produto entregue na viagem. Por se tratar de um caminhão tanque, - apenas 1 tipo de produto é entregue por viagem\n",
        "- Distância: Total da distância percorrida durante todo o trajeto\n",
        "- Número de dias: Total de dias que a viagem durou\n",
        "- Número de paradas do motorista: Número de vezes que o motorista parou, seja para alimentação, descanso, ir ao banheiro ou qualquer outro motivo\n",
        "- Reclamação: Se houve reclamação associada a viagem.\n",
        "\n",
        "**Perguntas a Serem Respondidas**\n",
        "\n",
        "1. Em uma reunião o chefe de logística disse que a mais da metade das viagens fazem mais que 6 entregas. Essa informação está correta?\n",
        "2. Existe alguma correlação aparente entre o número de entregas e a distância percorrida?\n",
        "3. Considerando uma análise IV, existe alguma relação entre o tipo de produto entregue e a existência de reclamações?\n",
        "4. Novamente considerando a análise IV, existe alguma relação entre a distância e a existência de reclamações?\n",
        "5. Como os dados de Distância estão distribuídos por tipo de produto?\n",
        "6. Utilizando o R², você diria que há associação aparente entre as variáveis de Reclamações e Número de paradas do motorista?"
      ],
      "metadata": {
        "id": "jE1Sk-3i6NOX"
      }
    },
    {
      "cell_type": "code",
      "execution_count": 24,
      "metadata": {
        "id": "VsD99HBw5uQK"
      },
      "outputs": [],
      "source": [
        "import pandas as pd\n",
        "import numpy as np\n",
        "import matplotlib.pyplot as plt"
      ]
    },
    {
      "cell_type": "code",
      "source": [
        "dados = pd.read_excel('Relatorio_Entregas.xlsx')\n",
        "dados.head()"
      ],
      "metadata": {
        "colab": {
          "base_uri": "https://localhost:8080/",
          "height": 206
        },
        "id": "x9pPDGLe61er",
        "outputId": "1329ba63-8ac1-41ef-f07f-b4d5b0951a7f"
      },
      "execution_count": 25,
      "outputs": [
        {
          "output_type": "execute_result",
          "data": {
            "text/plain": [
              "     ID_viagem  numero_entregas  tipo_caminhao    produto  Distância  \\\n",
              "0  TRIP-000001                2  Tanque grande  Produto B        268   \n",
              "1  TRIP-000002                1   Tanque médio  Produto D        154   \n",
              "2  TRIP-000003                6   Tanque médio  Produto D        140   \n",
              "3  TRIP-000004                2   Tanque médio  Produto A        140   \n",
              "4  TRIP-000005               28  Tanque grande  Produto A        576   \n",
              "\n",
              "   numero_dias  numero_paradas_motorista Reclamação  \n",
              "0            1                         6        Não  \n",
              "1            1                         4        Sim  \n",
              "2            1                         3        Sim  \n",
              "3            1                         5        Não  \n",
              "4            2                        10        Não  "
            ],
            "text/html": [
              "\n",
              "  <div id=\"df-693b09f2-3dac-4b24-a48f-0bd8386cb130\" class=\"colab-df-container\">\n",
              "    <div>\n",
              "<style scoped>\n",
              "    .dataframe tbody tr th:only-of-type {\n",
              "        vertical-align: middle;\n",
              "    }\n",
              "\n",
              "    .dataframe tbody tr th {\n",
              "        vertical-align: top;\n",
              "    }\n",
              "\n",
              "    .dataframe thead th {\n",
              "        text-align: right;\n",
              "    }\n",
              "</style>\n",
              "<table border=\"1\" class=\"dataframe\">\n",
              "  <thead>\n",
              "    <tr style=\"text-align: right;\">\n",
              "      <th></th>\n",
              "      <th>ID_viagem</th>\n",
              "      <th>numero_entregas</th>\n",
              "      <th>tipo_caminhao</th>\n",
              "      <th>produto</th>\n",
              "      <th>Distância</th>\n",
              "      <th>numero_dias</th>\n",
              "      <th>numero_paradas_motorista</th>\n",
              "      <th>Reclamação</th>\n",
              "    </tr>\n",
              "  </thead>\n",
              "  <tbody>\n",
              "    <tr>\n",
              "      <th>0</th>\n",
              "      <td>TRIP-000001</td>\n",
              "      <td>2</td>\n",
              "      <td>Tanque grande</td>\n",
              "      <td>Produto B</td>\n",
              "      <td>268</td>\n",
              "      <td>1</td>\n",
              "      <td>6</td>\n",
              "      <td>Não</td>\n",
              "    </tr>\n",
              "    <tr>\n",
              "      <th>1</th>\n",
              "      <td>TRIP-000002</td>\n",
              "      <td>1</td>\n",
              "      <td>Tanque médio</td>\n",
              "      <td>Produto D</td>\n",
              "      <td>154</td>\n",
              "      <td>1</td>\n",
              "      <td>4</td>\n",
              "      <td>Sim</td>\n",
              "    </tr>\n",
              "    <tr>\n",
              "      <th>2</th>\n",
              "      <td>TRIP-000003</td>\n",
              "      <td>6</td>\n",
              "      <td>Tanque médio</td>\n",
              "      <td>Produto D</td>\n",
              "      <td>140</td>\n",
              "      <td>1</td>\n",
              "      <td>3</td>\n",
              "      <td>Sim</td>\n",
              "    </tr>\n",
              "    <tr>\n",
              "      <th>3</th>\n",
              "      <td>TRIP-000004</td>\n",
              "      <td>2</td>\n",
              "      <td>Tanque médio</td>\n",
              "      <td>Produto A</td>\n",
              "      <td>140</td>\n",
              "      <td>1</td>\n",
              "      <td>5</td>\n",
              "      <td>Não</td>\n",
              "    </tr>\n",
              "    <tr>\n",
              "      <th>4</th>\n",
              "      <td>TRIP-000005</td>\n",
              "      <td>28</td>\n",
              "      <td>Tanque grande</td>\n",
              "      <td>Produto A</td>\n",
              "      <td>576</td>\n",
              "      <td>2</td>\n",
              "      <td>10</td>\n",
              "      <td>Não</td>\n",
              "    </tr>\n",
              "  </tbody>\n",
              "</table>\n",
              "</div>\n",
              "    <div class=\"colab-df-buttons\">\n",
              "\n",
              "  <div class=\"colab-df-container\">\n",
              "    <button class=\"colab-df-convert\" onclick=\"convertToInteractive('df-693b09f2-3dac-4b24-a48f-0bd8386cb130')\"\n",
              "            title=\"Convert this dataframe to an interactive table.\"\n",
              "            style=\"display:none;\">\n",
              "\n",
              "  <svg xmlns=\"http://www.w3.org/2000/svg\" height=\"24px\" viewBox=\"0 -960 960 960\">\n",
              "    <path d=\"M120-120v-720h720v720H120Zm60-500h600v-160H180v160Zm220 220h160v-160H400v160Zm0 220h160v-160H400v160ZM180-400h160v-160H180v160Zm440 0h160v-160H620v160ZM180-180h160v-160H180v160Zm440 0h160v-160H620v160Z\"/>\n",
              "  </svg>\n",
              "    </button>\n",
              "\n",
              "  <style>\n",
              "    .colab-df-container {\n",
              "      display:flex;\n",
              "      gap: 12px;\n",
              "    }\n",
              "\n",
              "    .colab-df-convert {\n",
              "      background-color: #E8F0FE;\n",
              "      border: none;\n",
              "      border-radius: 50%;\n",
              "      cursor: pointer;\n",
              "      display: none;\n",
              "      fill: #1967D2;\n",
              "      height: 32px;\n",
              "      padding: 0 0 0 0;\n",
              "      width: 32px;\n",
              "    }\n",
              "\n",
              "    .colab-df-convert:hover {\n",
              "      background-color: #E2EBFA;\n",
              "      box-shadow: 0px 1px 2px rgba(60, 64, 67, 0.3), 0px 1px 3px 1px rgba(60, 64, 67, 0.15);\n",
              "      fill: #174EA6;\n",
              "    }\n",
              "\n",
              "    .colab-df-buttons div {\n",
              "      margin-bottom: 4px;\n",
              "    }\n",
              "\n",
              "    [theme=dark] .colab-df-convert {\n",
              "      background-color: #3B4455;\n",
              "      fill: #D2E3FC;\n",
              "    }\n",
              "\n",
              "    [theme=dark] .colab-df-convert:hover {\n",
              "      background-color: #434B5C;\n",
              "      box-shadow: 0px 1px 3px 1px rgba(0, 0, 0, 0.15);\n",
              "      filter: drop-shadow(0px 1px 2px rgba(0, 0, 0, 0.3));\n",
              "      fill: #FFFFFF;\n",
              "    }\n",
              "  </style>\n",
              "\n",
              "    <script>\n",
              "      const buttonEl =\n",
              "        document.querySelector('#df-693b09f2-3dac-4b24-a48f-0bd8386cb130 button.colab-df-convert');\n",
              "      buttonEl.style.display =\n",
              "        google.colab.kernel.accessAllowed ? 'block' : 'none';\n",
              "\n",
              "      async function convertToInteractive(key) {\n",
              "        const element = document.querySelector('#df-693b09f2-3dac-4b24-a48f-0bd8386cb130');\n",
              "        const dataTable =\n",
              "          await google.colab.kernel.invokeFunction('convertToInteractive',\n",
              "                                                    [key], {});\n",
              "        if (!dataTable) return;\n",
              "\n",
              "        const docLinkHtml = 'Like what you see? Visit the ' +\n",
              "          '<a target=\"_blank\" href=https://colab.research.google.com/notebooks/data_table.ipynb>data table notebook</a>'\n",
              "          + ' to learn more about interactive tables.';\n",
              "        element.innerHTML = '';\n",
              "        dataTable['output_type'] = 'display_data';\n",
              "        await google.colab.output.renderOutput(dataTable, element);\n",
              "        const docLink = document.createElement('div');\n",
              "        docLink.innerHTML = docLinkHtml;\n",
              "        element.appendChild(docLink);\n",
              "      }\n",
              "    </script>\n",
              "  </div>\n",
              "\n",
              "\n",
              "    <div id=\"df-931fbba0-65f0-4840-b7b9-fe086c4c4114\">\n",
              "      <button class=\"colab-df-quickchart\" onclick=\"quickchart('df-931fbba0-65f0-4840-b7b9-fe086c4c4114')\"\n",
              "                title=\"Suggest charts\"\n",
              "                style=\"display:none;\">\n",
              "\n",
              "<svg xmlns=\"http://www.w3.org/2000/svg\" height=\"24px\"viewBox=\"0 0 24 24\"\n",
              "     width=\"24px\">\n",
              "    <g>\n",
              "        <path d=\"M19 3H5c-1.1 0-2 .9-2 2v14c0 1.1.9 2 2 2h14c1.1 0 2-.9 2-2V5c0-1.1-.9-2-2-2zM9 17H7v-7h2v7zm4 0h-2V7h2v10zm4 0h-2v-4h2v4z\"/>\n",
              "    </g>\n",
              "</svg>\n",
              "      </button>\n",
              "\n",
              "<style>\n",
              "  .colab-df-quickchart {\n",
              "      --bg-color: #E8F0FE;\n",
              "      --fill-color: #1967D2;\n",
              "      --hover-bg-color: #E2EBFA;\n",
              "      --hover-fill-color: #174EA6;\n",
              "      --disabled-fill-color: #AAA;\n",
              "      --disabled-bg-color: #DDD;\n",
              "  }\n",
              "\n",
              "  [theme=dark] .colab-df-quickchart {\n",
              "      --bg-color: #3B4455;\n",
              "      --fill-color: #D2E3FC;\n",
              "      --hover-bg-color: #434B5C;\n",
              "      --hover-fill-color: #FFFFFF;\n",
              "      --disabled-bg-color: #3B4455;\n",
              "      --disabled-fill-color: #666;\n",
              "  }\n",
              "\n",
              "  .colab-df-quickchart {\n",
              "    background-color: var(--bg-color);\n",
              "    border: none;\n",
              "    border-radius: 50%;\n",
              "    cursor: pointer;\n",
              "    display: none;\n",
              "    fill: var(--fill-color);\n",
              "    height: 32px;\n",
              "    padding: 0;\n",
              "    width: 32px;\n",
              "  }\n",
              "\n",
              "  .colab-df-quickchart:hover {\n",
              "    background-color: var(--hover-bg-color);\n",
              "    box-shadow: 0 1px 2px rgba(60, 64, 67, 0.3), 0 1px 3px 1px rgba(60, 64, 67, 0.15);\n",
              "    fill: var(--button-hover-fill-color);\n",
              "  }\n",
              "\n",
              "  .colab-df-quickchart-complete:disabled,\n",
              "  .colab-df-quickchart-complete:disabled:hover {\n",
              "    background-color: var(--disabled-bg-color);\n",
              "    fill: var(--disabled-fill-color);\n",
              "    box-shadow: none;\n",
              "  }\n",
              "\n",
              "  .colab-df-spinner {\n",
              "    border: 2px solid var(--fill-color);\n",
              "    border-color: transparent;\n",
              "    border-bottom-color: var(--fill-color);\n",
              "    animation:\n",
              "      spin 1s steps(1) infinite;\n",
              "  }\n",
              "\n",
              "  @keyframes spin {\n",
              "    0% {\n",
              "      border-color: transparent;\n",
              "      border-bottom-color: var(--fill-color);\n",
              "      border-left-color: var(--fill-color);\n",
              "    }\n",
              "    20% {\n",
              "      border-color: transparent;\n",
              "      border-left-color: var(--fill-color);\n",
              "      border-top-color: var(--fill-color);\n",
              "    }\n",
              "    30% {\n",
              "      border-color: transparent;\n",
              "      border-left-color: var(--fill-color);\n",
              "      border-top-color: var(--fill-color);\n",
              "      border-right-color: var(--fill-color);\n",
              "    }\n",
              "    40% {\n",
              "      border-color: transparent;\n",
              "      border-right-color: var(--fill-color);\n",
              "      border-top-color: var(--fill-color);\n",
              "    }\n",
              "    60% {\n",
              "      border-color: transparent;\n",
              "      border-right-color: var(--fill-color);\n",
              "    }\n",
              "    80% {\n",
              "      border-color: transparent;\n",
              "      border-right-color: var(--fill-color);\n",
              "      border-bottom-color: var(--fill-color);\n",
              "    }\n",
              "    90% {\n",
              "      border-color: transparent;\n",
              "      border-bottom-color: var(--fill-color);\n",
              "    }\n",
              "  }\n",
              "</style>\n",
              "\n",
              "      <script>\n",
              "        async function quickchart(key) {\n",
              "          const quickchartButtonEl =\n",
              "            document.querySelector('#' + key + ' button');\n",
              "          quickchartButtonEl.disabled = true;  // To prevent multiple clicks.\n",
              "          quickchartButtonEl.classList.add('colab-df-spinner');\n",
              "          try {\n",
              "            const charts = await google.colab.kernel.invokeFunction(\n",
              "                'suggestCharts', [key], {});\n",
              "          } catch (error) {\n",
              "            console.error('Error during call to suggestCharts:', error);\n",
              "          }\n",
              "          quickchartButtonEl.classList.remove('colab-df-spinner');\n",
              "          quickchartButtonEl.classList.add('colab-df-quickchart-complete');\n",
              "        }\n",
              "        (() => {\n",
              "          let quickchartButtonEl =\n",
              "            document.querySelector('#df-931fbba0-65f0-4840-b7b9-fe086c4c4114 button');\n",
              "          quickchartButtonEl.style.display =\n",
              "            google.colab.kernel.accessAllowed ? 'block' : 'none';\n",
              "        })();\n",
              "      </script>\n",
              "    </div>\n",
              "\n",
              "    </div>\n",
              "  </div>\n"
            ],
            "application/vnd.google.colaboratory.intrinsic+json": {
              "type": "dataframe",
              "variable_name": "dados",
              "summary": "{\n  \"name\": \"dados\",\n  \"rows\": 1000,\n  \"fields\": [\n    {\n      \"column\": \"ID_viagem\",\n      \"properties\": {\n        \"dtype\": \"string\",\n        \"num_unique_values\": 1000,\n        \"samples\": [\n          \"TRIP-000522\",\n          \"TRIP-000738\",\n          \"TRIP-000741\"\n        ],\n        \"semantic_type\": \"\",\n        \"description\": \"\"\n      }\n    },\n    {\n      \"column\": \"numero_entregas\",\n      \"properties\": {\n        \"dtype\": \"number\",\n        \"std\": 8,\n        \"min\": 1,\n        \"max\": 50,\n        \"num_unique_values\": 40,\n        \"samples\": [\n          37,\n          26,\n          40\n        ],\n        \"semantic_type\": \"\",\n        \"description\": \"\"\n      }\n    },\n    {\n      \"column\": \"tipo_caminhao\",\n      \"properties\": {\n        \"dtype\": \"category\",\n        \"num_unique_values\": 3,\n        \"samples\": [\n          \"Tanque grande\",\n          \"Tanque m\\u00e9dio\",\n          \"Tanque pequeno\"\n        ],\n        \"semantic_type\": \"\",\n        \"description\": \"\"\n      }\n    },\n    {\n      \"column\": \"produto\",\n      \"properties\": {\n        \"dtype\": \"category\",\n        \"num_unique_values\": 4,\n        \"samples\": [\n          \"Produto D\",\n          \"Produto C\",\n          \"Produto B\"\n        ],\n        \"semantic_type\": \"\",\n        \"description\": \"\"\n      }\n    },\n    {\n      \"column\": \"Dist\\u00e2ncia\",\n      \"properties\": {\n        \"dtype\": \"number\",\n        \"std\": 180,\n        \"min\": 50,\n        \"max\": 1048,\n        \"num_unique_values\": 419,\n        \"samples\": [\n          222,\n          288,\n          203\n        ],\n        \"semantic_type\": \"\",\n        \"description\": \"\"\n      }\n    },\n    {\n      \"column\": \"numero_dias\",\n      \"properties\": {\n        \"dtype\": \"number\",\n        \"std\": 0,\n        \"min\": 1,\n        \"max\": 3,\n        \"num_unique_values\": 3,\n        \"samples\": [\n          1,\n          2,\n          3\n        ],\n        \"semantic_type\": \"\",\n        \"description\": \"\"\n      }\n    },\n    {\n      \"column\": \"numero_paradas_motorista\",\n      \"properties\": {\n        \"dtype\": \"number\",\n        \"std\": 2,\n        \"min\": 1,\n        \"max\": 17,\n        \"num_unique_values\": 16,\n        \"samples\": [\n          6,\n          4,\n          2\n        ],\n        \"semantic_type\": \"\",\n        \"description\": \"\"\n      }\n    },\n    {\n      \"column\": \"Reclama\\u00e7\\u00e3o\",\n      \"properties\": {\n        \"dtype\": \"category\",\n        \"num_unique_values\": 2,\n        \"samples\": [\n          \"Sim\",\n          \"N\\u00e3o\"\n        ],\n        \"semantic_type\": \"\",\n        \"description\": \"\"\n      }\n    }\n  ]\n}"
            }
          },
          "metadata": {},
          "execution_count": 25
        }
      ]
    },
    {
      "cell_type": "code",
      "source": [
        "dados.info()"
      ],
      "metadata": {
        "colab": {
          "base_uri": "https://localhost:8080/"
        },
        "id": "GY4Wqa_X7PG6",
        "outputId": "c9fc825c-d517-4701-deff-196a680c1862"
      },
      "execution_count": 26,
      "outputs": [
        {
          "output_type": "stream",
          "name": "stdout",
          "text": [
            "<class 'pandas.core.frame.DataFrame'>\n",
            "RangeIndex: 1000 entries, 0 to 999\n",
            "Data columns (total 8 columns):\n",
            " #   Column                    Non-Null Count  Dtype \n",
            "---  ------                    --------------  ----- \n",
            " 0   ID_viagem                 1000 non-null   object\n",
            " 1   numero_entregas           1000 non-null   int64 \n",
            " 2   tipo_caminhao             1000 non-null   object\n",
            " 3   produto                   1000 non-null   object\n",
            " 4   Distância                 1000 non-null   int64 \n",
            " 5   numero_dias               1000 non-null   int64 \n",
            " 6   numero_paradas_motorista  1000 non-null   int64 \n",
            " 7   Reclamação                1000 non-null   object\n",
            "dtypes: int64(4), object(4)\n",
            "memory usage: 62.6+ KB\n"
          ]
        }
      ]
    },
    {
      "cell_type": "code",
      "source": [
        "dados.shape"
      ],
      "metadata": {
        "colab": {
          "base_uri": "https://localhost:8080/"
        },
        "id": "WqTklGB_7Toq",
        "outputId": "5c10f08a-58e5-4f58-e2ea-6dc1995cdae8"
      },
      "execution_count": 27,
      "outputs": [
        {
          "output_type": "execute_result",
          "data": {
            "text/plain": [
              "(1000, 8)"
            ]
          },
          "metadata": {},
          "execution_count": 27
        }
      ]
    },
    {
      "cell_type": "markdown",
      "source": [
        "## Resposta 1\n",
        "\n",
        "A afirmação do chefe de logística **não está correta**.\n",
        "\n",
        "Para verificar, foi utilizado a **mediana** do número de entregas por viagem, que é uma medida de tendência central que **divide o conjunto de dados ao meio**: metade das viagens fez **até 3 entregas**, e a outra metade fez **mais de 3**.\n",
        "\n",
        "Portanto, a afirmação de que \"mais da metade das viagens fazem mais de  entregas\" **não é compatível com os dados** analisados."
      ],
      "metadata": {
        "id": "hsICOnU9B7KT"
      }
    },
    {
      "cell_type": "code",
      "source": [
        "plt.figure(figsize=(10, 6))\n",
        "plt.title('Distribuição de Entregas')\n",
        "plt.ylabel('Número de Entregas')\n",
        "\n",
        "plt.boxplot(dados['numero_entregas'])\n",
        "mediana = dados['numero_entregas'].quantile(0.5)\n",
        "plt.text(1.2, mediana, f'Mediana = {mediana:.1f}', va='center', ha='center',\n",
        "         bbox=dict(boxstyle='round, pad=0.2', facecolor='orange', alpha=0.5))\n",
        "plt.show()"
      ],
      "metadata": {
        "colab": {
          "base_uri": "https://localhost:8080/",
          "height": 545
        },
        "id": "Ci34UZsdBVl6",
        "outputId": "a26c8304-76a5-4ee7-ad99-cb4c1b1877ee"
      },
      "execution_count": 28,
      "outputs": [
        {
          "output_type": "display_data",
          "data": {
            "text/plain": [
              "<Figure size 1000x600 with 1 Axes>"
            ],
            "image/png": "[encoded data removed]"
          },
          "metadata": {}
        }
      ]
    },
    {
      "cell_type": "markdown",
      "source": [
        "## Resposta 2\n",
        "\n",
        "Utilizamos o coeficiente de **correlação de Pearson** para medir a relação linear entre as variáveis **numero_entregas** e **Distância**.\n",
        "\n",
        "O resultado obtido foi de **0.734**, indicando uma **forte correlação positiva** entre elas.\n"
      ],
      "metadata": {
        "id": "Wt3PvvtmB_Lp"
      }
    },
    {
      "cell_type": "code",
      "source": [
        "correlacao = dados[['numero_entregas', 'Distância']].corr(method='pearson').iloc[0, 1]\n",
        "\n",
        "x = dados['numero_entregas']\n",
        "y = dados['Distância']\n",
        "z = np.polyfit(x, y, 1)\n",
        "p = np.poly1d(z)\n",
        "\n",
        "plt.figure(figsize=(10, 6))\n",
        "plt.scatter(x, y)\n",
        "plt.title('Número de Entregas x Distância')\n",
        "plt.xlabel('Número de Entregas')\n",
        "plt.ylabel('Distância')\n",
        "plt.plot(x, p(x), \"r-\", alpha=0.8, label=f'r = {correlacao:.3f}')\n",
        "plt.legend()\n",
        "\n",
        "plt.show()"
      ],
      "metadata": {
        "colab": {
          "base_uri": "https://localhost:8080/",
          "height": 565
        },
        "id": "_z4vKADUEwSK",
        "outputId": "a08ea792-f858-48c9-cb6e-ba7474774402"
      },
      "execution_count": 29,
      "outputs": [
        {
          "output_type": "display_data",
          "data": {
            "text/plain": [
              "<Figure size 1000x600 with 1 Axes>"
            ],
            "image/png": "[encoded data removed]"
          },
          "metadata": {}
        }
      ]
    },
    {
      "cell_type": "markdown",
      "source": [
        "## Resposta 3 e 4\n",
        "\n",
        "Para responder a questões 3 e 4 utilizamos o **Information Value (IV)**, como solicitado.\n",
        "\n",
        "- Na **questão 3**, analisamos as variáveis **produtos** e **Reclamação**, e obtivemos um **IV = 0.4204**, indicando uma **forte relação** entre elas.\n",
        "\n",
        "- Na **questão 4**, analisamos as variáveis **Distância** e **Reclamação** com um **IV = 0.0425**, o que indica uma **fraca relação** entre essas variáveis."
      ],
      "metadata": {
        "id": "lMDwWiwqZWEk"
      }
    },
    {
      "cell_type": "code",
      "source": [
        "def obter_iv(coluna1):\n",
        "  # Contagem de Sim e Não por produto\n",
        "  contagem = dados.groupby([coluna1, 'Reclamação'], observed=False).size().unstack(fill_value=0)\n",
        "\n",
        "  # Totais\n",
        "  total_sim = contagem['Sim'].sum()\n",
        "  total_nao = contagem['Não'].sum()\n",
        "\n",
        "  # Proporções\n",
        "  p_sim = contagem['Sim'] / total_sim\n",
        "  p_nao = contagem['Não'] / total_nao\n",
        "\n",
        "  # Substituir zeros por um valor pequeno\n",
        "  p_sim = p_sim.replace(0, 1e-10)\n",
        "  p_nao = p_nao.replace(0, 1e-10)\n",
        "\n",
        "  # Odds e log(odds)\n",
        "  iv_por_grupo = (p_sim - p_nao) * np.log(p_sim / p_nao)\n",
        "\n",
        "  # Soma total do IV\n",
        "  iv_total = iv_por_grupo.sum()\n",
        "  return f'IV: {iv_total:.4f}'"
      ],
      "metadata": {
        "id": "icWBVOW59M65"
      },
      "execution_count": 30,
      "outputs": []
    },
    {
      "cell_type": "code",
      "source": [
        "obter_iv('produto')"
      ],
      "metadata": {
        "colab": {
          "base_uri": "https://localhost:8080/",
          "height": 36
        },
        "id": "7H9b8vrv9xCC",
        "outputId": "37178f14-b2e5-4b62-e695-2121928b6201"
      },
      "execution_count": 31,
      "outputs": [
        {
          "output_type": "execute_result",
          "data": {
            "text/plain": [
              "'IV: 0.4204'"
            ],
            "application/vnd.google.colaboratory.intrinsic+json": {
              "type": "string"
            }
          },
          "metadata": {},
          "execution_count": 31
        }
      ]
    },
    {
      "cell_type": "code",
      "source": [
        "inicio = dados['Distância'].min()\n",
        "fim = dados['Distância'].max()\n",
        "bins = np.arange(inicio, fim + 100, 100)\n",
        "intervalos = pd.cut(dados['Distância'], bins=bins)\n",
        "contagem = intervalos.value_counts().sort_index()\n",
        "print(contagem)"
      ],
      "metadata": {
        "colab": {
          "base_uri": "https://localhost:8080/"
        },
        "id": "jPc0rhn0iIub",
        "outputId": "60254548-2a7a-4aed-d61c-16eff5d12624"
      },
      "execution_count": 32,
      "outputs": [
        {
          "output_type": "stream",
          "name": "stdout",
          "text": [
            "Distância\n",
            "(50, 150]      294\n",
            "(150, 250]     242\n",
            "(250, 350]     142\n",
            "(350, 450]      89\n",
            "(450, 550]      46\n",
            "(550, 650]      40\n",
            "(650, 750]      12\n",
            "(750, 850]      10\n",
            "(850, 950]       4\n",
            "(950, 1050]      7\n",
            "Name: count, dtype: int64\n"
          ]
        }
      ]
    },
    {
      "cell_type": "code",
      "source": [
        "obter_iv(intervalos)"
      ],
      "metadata": {
        "colab": {
          "base_uri": "https://localhost:8080/",
          "height": 36
        },
        "id": "sc-_9Npc-VYA",
        "outputId": "c5c79f48-da83-438c-8e54-e188cf9b6db6"
      },
      "execution_count": 33,
      "outputs": [
        {
          "output_type": "execute_result",
          "data": {
            "text/plain": [
              "'IV: 0.0425'"
            ],
            "application/vnd.google.colaboratory.intrinsic+json": {
              "type": "string"
            }
          },
          "metadata": {},
          "execution_count": 33
        }
      ]
    },
    {
      "cell_type": "markdown",
      "source": [
        "## Resposta 5\n",
        "\n",
        "Para analisar se a **distribuição de produtos** têm relação com a **distância** utilizamos o **gráfico de boxplot**.\n",
        "\n",
        "O gráfico mostrou que as **medianas** e a **distribuição dos valores** são bastante semelhantes entre diferentes produtos. Isso indica que **não há uma diferença significativa** na distância em função do produto.\n",
        "\n",
        "Portanto, podemos inferir que **produto e distância não estão diretamente relacionados**."
      ],
      "metadata": {
        "id": "bpQqlludApIi"
      }
    },
    {
      "cell_type": "code",
      "source": [
        "# Agrupar dados por produto\n",
        "grupos = dados.groupby('produto')['Distância']\n",
        "\n",
        "# Preparar os dados para o boxplot\n",
        "valores = [grupo.tolist() for _, grupo in grupos]\n",
        "labels = [str(produto) for produto in grupos.groups.keys()]\n",
        "\n",
        "# Criar o boxplot\n",
        "plt.figure(figsize=(10, 6))\n",
        "plt.boxplot(valores, tick_labels=labels)\n",
        "plt.title('Distribuição de Distância por Produto')\n",
        "plt.xlabel('Produto')\n",
        "plt.ylabel('Distância')\n",
        "plt.xticks(rotation=45)\n",
        "\n",
        "# Calcular e anotar a mediana de cada grupo\n",
        "medianas = grupos.median().tolist()\n",
        "for i, med in enumerate(medianas, start=1):\n",
        "  plt.text(i, mediana, f'Mediana = {med:.1f}', va='bottom', ha='center', fontsize=9,\n",
        "          bbox=dict(boxstyle='round, pad=0.2', facecolor='orange', alpha=0.5))\n",
        "\n",
        "plt.show()"
      ],
      "metadata": {
        "colab": {
          "base_uri": "https://localhost:8080/",
          "height": 609
        },
        "id": "akqEJZbHk5kQ",
        "outputId": "cb1be628-974b-4647-c7b0-149898c465ff"
      },
      "execution_count": 43,
      "outputs": [
        {
          "output_type": "display_data",
          "data": {
            "text/plain": [
              "<Figure size 1000x600 with 1 Axes>"
            ],
            "image/png": "[encoded data removed]"
          },
          "metadata": {}
        }
      ]
    },
    {
      "cell_type": "markdown",
      "source": [
        "## Resposta 6\n",
        "\n",
        "Para esta análise utilizamos o **coeficiente de determinação R² para quantificar a associação linear entre as variáveis de Reclamação e numero_paradas_motorista**.\n",
        "\n",
        "O valor obtido foi **muito próximo de zero (R² = 0.000990995)**, o que indica que **quase nenhuma variação em uma variável é explicada pela outra**. Ou seja, **não há uma associação linear aparente entre elas**."
      ],
      "metadata": {
        "id": "MWEF1MVkmho2"
      }
    },
    {
      "cell_type": "code",
      "source": [
        "coef_det = dados.groupby('Reclamação')['numero_paradas_motorista'].count()\n",
        "coef_det['media'] = coef_det.mean()"
      ],
      "metadata": {
        "id": "0I-2seGtoFAr"
      },
      "execution_count": 35,
      "outputs": []
    },
    {
      "cell_type": "code",
      "source": [
        "coef_det = dados.groupby('Reclamação')['numero_paradas_motorista'].agg(\n",
        "    contagem='count',\n",
        "    variancia='var'\n",
        ").reset_index()\n",
        "\n",
        "# Calcular os totais gerais\n",
        "soma_contagem = coef_det['contagem'].sum()\n",
        "variancia_total = dados['numero_paradas_motorista'].var()\n",
        "\n",
        "# Criar uma linha total\n",
        "linha_total = pd.DataFrame([{\n",
        "    'Reclamação': 'TOTAL',\n",
        "    'contagem': soma_contagem,\n",
        "    'variancia': variancia_total\n",
        "}])\n",
        "\n",
        "# Adiciona ao DataFrame\n",
        "coef_det = pd.concat([coef_det, linha_total], ignore_index=True)\n",
        "coef_det"
      ],
      "metadata": {
        "colab": {
          "base_uri": "https://localhost:8080/",
          "height": 143
        },
        "id": "hL6V_nVKprV1",
        "outputId": "55f08874-e5f5-4445-9515-0b2a3e69cf17"
      },
      "execution_count": 36,
      "outputs": [
        {
          "output_type": "execute_result",
          "data": {
            "text/plain": [
              "  Reclamação  contagem  variancia\n",
              "0        Não       729   5.499423\n",
              "1        Sim       271   5.131365\n",
              "2      TOTAL      1000   5.405036"
            ],
            "text/html": [
              "\n",
              "  <div id=\"df-49186e19-bce8-42cb-b146-502d1c7ad7f8\" class=\"colab-df-container\">\n",
              "    <div>\n",
              "<style scoped>\n",
              "    .dataframe tbody tr th:only-of-type {\n",
              "        vertical-align: middle;\n",
              "    }\n",
              "\n",
              "    .dataframe tbody tr th {\n",
              "        vertical-align: top;\n",
              "    }\n",
              "\n",
              "    .dataframe thead th {\n",
              "        text-align: right;\n",
              "    }\n",
              "</style>\n",
              "<table border=\"1\" class=\"dataframe\">\n",
              "  <thead>\n",
              "    <tr style=\"text-align: right;\">\n",
              "      <th></th>\n",
              "      <th>Reclamação</th>\n",
              "      <th>contagem</th>\n",
              "      <th>variancia</th>\n",
              "    </tr>\n",
              "  </thead>\n",
              "  <tbody>\n",
              "    <tr>\n",
              "      <th>0</th>\n",
              "      <td>Não</td>\n",
              "      <td>729</td>\n",
              "      <td>5.499423</td>\n",
              "    </tr>\n",
              "    <tr>\n",
              "      <th>1</th>\n",
              "      <td>Sim</td>\n",
              "      <td>271</td>\n",
              "      <td>5.131365</td>\n",
              "    </tr>\n",
              "    <tr>\n",
              "      <th>2</th>\n",
              "      <td>TOTAL</td>\n",
              "      <td>1000</td>\n",
              "      <td>5.405036</td>\n",
              "    </tr>\n",
              "  </tbody>\n",
              "</table>\n",
              "</div>\n",
              "    <div class=\"colab-df-buttons\">\n",
              "\n",
              "  <div class=\"colab-df-container\">\n",
              "    <button class=\"colab-df-convert\" onclick=\"convertToInteractive('df-49186e19-bce8-42cb-b146-502d1c7ad7f8')\"\n",
              "            title=\"Convert this dataframe to an interactive table.\"\n",
              "            style=\"display:none;\">\n",
              "\n",
              "  <svg xmlns=\"http://www.w3.org/2000/svg\" height=\"24px\" viewBox=\"0 -960 960 960\">\n",
              "    <path d=\"M120-120v-720h720v720H120Zm60-500h600v-160H180v160Zm220 220h160v-160H400v160Zm0 220h160v-160H400v160ZM180-400h160v-160H180v160Zm440 0h160v-160H620v160ZM180-180h160v-160H180v160Zm440 0h160v-160H620v160Z\"/>\n",
              "  </svg>\n",
              "    </button>\n",
              "\n",
              "  <style>\n",
              "    .colab-df-container {\n",
              "      display:flex;\n",
              "      gap: 12px;\n",
              "    }\n",
              "\n",
              "    .colab-df-convert {\n",
              "      background-color: #E8F0FE;\n",
              "      border: none;\n",
              "      border-radius: 50%;\n",
              "      cursor: pointer;\n",
              "      display: none;\n",
              "      fill: #1967D2;\n",
              "      height: 32px;\n",
              "      padding: 0 0 0 0;\n",
              "      width: 32px;\n",
              "    }\n",
              "\n",
              "    .colab-df-convert:hover {\n",
              "      background-color: #E2EBFA;\n",
              "      box-shadow: 0px 1px 2px rgba(60, 64, 67, 0.3), 0px 1px 3px 1px rgba(60, 64, 67, 0.15);\n",
              "      fill: #174EA6;\n",
              "    }\n",
              "\n",
              "    .colab-df-buttons div {\n",
              "      margin-bottom: 4px;\n",
              "    }\n",
              "\n",
              "    [theme=dark] .colab-df-convert {\n",
              "      background-color: #3B4455;\n",
              "      fill: #D2E3FC;\n",
              "    }\n",
              "\n",
              "    [theme=dark] .colab-df-convert:hover {\n",
              "      background-color: #434B5C;\n",
              "      box-shadow: 0px 1px 3px 1px rgba(0, 0, 0, 0.15);\n",
              "      filter: drop-shadow(0px 1px 2px rgba(0, 0, 0, 0.3));\n",
              "      fill: #FFFFFF;\n",
              "    }\n",
              "  </style>\n",
              "\n",
              "    <script>\n",
              "      const buttonEl =\n",
              "        document.querySelector('#df-49186e19-bce8-42cb-b146-502d1c7ad7f8 button.colab-df-convert');\n",
              "      buttonEl.style.display =\n",
              "        google.colab.kernel.accessAllowed ? 'block' : 'none';\n",
              "\n",
              "      async function convertToInteractive(key) {\n",
              "        const element = document.querySelector('#df-49186e19-bce8-42cb-b146-502d1c7ad7f8');\n",
              "        const dataTable =\n",
              "          await google.colab.kernel.invokeFunction('convertToInteractive',\n",
              "                                                    [key], {});\n",
              "        if (!dataTable) return;\n",
              "\n",
              "        const docLinkHtml = 'Like what you see? Visit the ' +\n",
              "          '<a target=\"_blank\" href=https://colab.research.google.com/notebooks/data_table.ipynb>data table notebook</a>'\n",
              "          + ' to learn more about interactive tables.';\n",
              "        element.innerHTML = '';\n",
              "        dataTable['output_type'] = 'display_data';\n",
              "        await google.colab.output.renderOutput(dataTable, element);\n",
              "        const docLink = document.createElement('div');\n",
              "        docLink.innerHTML = docLinkHtml;\n",
              "        element.appendChild(docLink);\n",
              "      }\n",
              "    </script>\n",
              "  </div>\n",
              "\n",
              "\n",
              "    <div id=\"df-a460dbd6-1440-45bc-9e04-8578d7f588dd\">\n",
              "      <button class=\"colab-df-quickchart\" onclick=\"quickchart('df-a460dbd6-1440-45bc-9e04-8578d7f588dd')\"\n",
              "                title=\"Suggest charts\"\n",
              "                style=\"display:none;\">\n",
              "\n",
              "<svg xmlns=\"http://www.w3.org/2000/svg\" height=\"24px\"viewBox=\"0 0 24 24\"\n",
              "     width=\"24px\">\n",
              "    <g>\n",
              "        <path d=\"M19 3H5c-1.1 0-2 .9-2 2v14c0 1.1.9 2 2 2h14c1.1 0 2-.9 2-2V5c0-1.1-.9-2-2-2zM9 17H7v-7h2v7zm4 0h-2V7h2v10zm4 0h-2v-4h2v4z\"/>\n",
              "    </g>\n",
              "</svg>\n",
              "      </button>\n",
              "\n",
              "<style>\n",
              "  .colab-df-quickchart {\n",
              "      --bg-color: #E8F0FE;\n",
              "      --fill-color: #1967D2;\n",
              "      --hover-bg-color: #E2EBFA;\n",
              "      --hover-fill-color: #174EA6;\n",
              "      --disabled-fill-color: #AAA;\n",
              "      --disabled-bg-color: #DDD;\n",
              "  }\n",
              "\n",
              "  [theme=dark] .colab-df-quickchart {\n",
              "      --bg-color: #3B4455;\n",
              "      --fill-color: #D2E3FC;\n",
              "      --hover-bg-color: #434B5C;\n",
              "      --hover-fill-color: #FFFFFF;\n",
              "      --disabled-bg-color: #3B4455;\n",
              "      --disabled-fill-color: #666;\n",
              "  }\n",
              "\n",
              "  .colab-df-quickchart {\n",
              "    background-color: var(--bg-color);\n",
              "    border: none;\n",
              "    border-radius: 50%;\n",
              "    cursor: pointer;\n",
              "    display: none;\n",
              "    fill: var(--fill-color);\n",
              "    height: 32px;\n",
              "    padding: 0;\n",
              "    width: 32px;\n",
              "  }\n",
              "\n",
              "  .colab-df-quickchart:hover {\n",
              "    background-color: var(--hover-bg-color);\n",
              "    box-shadow: 0 1px 2px rgba(60, 64, 67, 0.3), 0 1px 3px 1px rgba(60, 64, 67, 0.15);\n",
              "    fill: var(--button-hover-fill-color);\n",
              "  }\n",
              "\n",
              "  .colab-df-quickchart-complete:disabled,\n",
              "  .colab-df-quickchart-complete:disabled:hover {\n",
              "    background-color: var(--disabled-bg-color);\n",
              "    fill: var(--disabled-fill-color);\n",
              "    box-shadow: none;\n",
              "  }\n",
              "\n",
              "  .colab-df-spinner {\n",
              "    border: 2px solid var(--fill-color);\n",
              "    border-color: transparent;\n",
              "    border-bottom-color: var(--fill-color);\n",
              "    animation:\n",
              "      spin 1s steps(1) infinite;\n",
              "  }\n",
              "\n",
              "  @keyframes spin {\n",
              "    0% {\n",
              "      border-color: transparent;\n",
              "      border-bottom-color: var(--fill-color);\n",
              "      border-left-color: var(--fill-color);\n",
              "    }\n",
              "    20% {\n",
              "      border-color: transparent;\n",
              "      border-left-color: var(--fill-color);\n",
              "      border-top-color: var(--fill-color);\n",
              "    }\n",
              "    30% {\n",
              "      border-color: transparent;\n",
              "      border-left-color: var(--fill-color);\n",
              "      border-top-color: var(--fill-color);\n",
              "      border-right-color: var(--fill-color);\n",
              "    }\n",
              "    40% {\n",
              "      border-color: transparent;\n",
              "      border-right-color: var(--fill-color);\n",
              "      border-top-color: var(--fill-color);\n",
              "    }\n",
              "    60% {\n",
              "      border-color: transparent;\n",
              "      border-right-color: var(--fill-color);\n",
              "    }\n",
              "    80% {\n",
              "      border-color: transparent;\n",
              "      border-right-color: var(--fill-color);\n",
              "      border-bottom-color: var(--fill-color);\n",
              "    }\n",
              "    90% {\n",
              "      border-color: transparent;\n",
              "      border-bottom-color: var(--fill-color);\n",
              "    }\n",
              "  }\n",
              "</style>\n",
              "\n",
              "      <script>\n",
              "        async function quickchart(key) {\n",
              "          const quickchartButtonEl =\n",
              "            document.querySelector('#' + key + ' button');\n",
              "          quickchartButtonEl.disabled = true;  // To prevent multiple clicks.\n",
              "          quickchartButtonEl.classList.add('colab-df-spinner');\n",
              "          try {\n",
              "            const charts = await google.colab.kernel.invokeFunction(\n",
              "                'suggestCharts', [key], {});\n",
              "          } catch (error) {\n",
              "            console.error('Error during call to suggestCharts:', error);\n",
              "          }\n",
              "          quickchartButtonEl.classList.remove('colab-df-spinner');\n",
              "          quickchartButtonEl.classList.add('colab-df-quickchart-complete');\n",
              "        }\n",
              "        (() => {\n",
              "          let quickchartButtonEl =\n",
              "            document.querySelector('#df-a460dbd6-1440-45bc-9e04-8578d7f588dd button');\n",
              "          quickchartButtonEl.style.display =\n",
              "            google.colab.kernel.accessAllowed ? 'block' : 'none';\n",
              "        })();\n",
              "      </script>\n",
              "    </div>\n",
              "\n",
              "  <div id=\"id_ad258a41-4bea-441a-8165-54617c72ff01\">\n",
              "    <style>\n",
              "      .colab-df-generate {\n",
              "        background-color: #E8F0FE;\n",
              "        border: none;\n",
              "        border-radius: 50%;\n",
              "        cursor: pointer;\n",
              "        display: none;\n",
              "        fill: #1967D2;\n",
              "        height: 32px;\n",
              "        padding: 0 0 0 0;\n",
              "        width: 32px;\n",
              "      }\n",
              "\n",
              "      .colab-df-generate:hover {\n",
              "        background-color: #E2EBFA;\n",
              "        box-shadow: 0px 1px 2px rgba(60, 64, 67, 0.3), 0px 1px 3px 1px rgba(60, 64, 67, 0.15);\n",
              "        fill: #174EA6;\n",
              "      }\n",
              "\n",
              "      [theme=dark] .colab-df-generate {\n",
              "        background-color: #3B4455;\n",
              "        fill: #D2E3FC;\n",
              "      }\n",
              "\n",
              "      [theme=dark] .colab-df-generate:hover {\n",
              "        background-color: #434B5C;\n",
              "        box-shadow: 0px 1px 3px 1px rgba(0, 0, 0, 0.15);\n",
              "        filter: drop-shadow(0px 1px 2px rgba(0, 0, 0, 0.3));\n",
              "        fill: #FFFFFF;\n",
              "      }\n",
              "    </style>\n",
              "    <button class=\"colab-df-generate\" onclick=\"generateWithVariable('coef_det')\"\n",
              "            title=\"Generate code using this dataframe.\"\n",
              "            style=\"display:none;\">\n",
              "\n",
              "  <svg xmlns=\"http://www.w3.org/2000/svg\" height=\"24px\"viewBox=\"0 0 24 24\"\n",
              "       width=\"24px\">\n",
              "    <path d=\"M7,19H8.4L18.45,9,17,7.55,7,17.6ZM5,21V16.75L18.45,3.32a2,2,0,0,1,2.83,0l1.4,1.43a1.91,1.91,0,0,1,.58,1.4,1.91,1.91,0,0,1-.58,1.4L9.25,21ZM18.45,9,17,7.55Zm-12,3A5.31,5.31,0,0,0,4.9,8.1,5.31,5.31,0,0,0,1,6.5,5.31,5.31,0,0,0,4.9,4.9,5.31,5.31,0,0,0,6.5,1,5.31,5.31,0,0,0,8.1,4.9,5.31,5.31,0,0,0,12,6.5,5.46,5.46,0,0,0,6.5,12Z\"/>\n",
              "  </svg>\n",
              "    </button>\n",
              "    <script>\n",
              "      (() => {\n",
              "      const buttonEl =\n",
              "        document.querySelector('#id_ad258a41-4bea-441a-8165-54617c72ff01 button.colab-df-generate');\n",
              "      buttonEl.style.display =\n",
              "        google.colab.kernel.accessAllowed ? 'block' : 'none';\n",
              "\n",
              "      buttonEl.onclick = () => {\n",
              "        google.colab.notebook.generateWithVariable('coef_det');\n",
              "      }\n",
              "      })();\n",
              "    </script>\n",
              "  </div>\n",
              "\n",
              "    </div>\n",
              "  </div>\n"
            ],
            "application/vnd.google.colaboratory.intrinsic+json": {
              "type": "dataframe",
              "variable_name": "coef_det",
              "summary": "{\n  \"name\": \"coef_det\",\n  \"rows\": 3,\n  \"fields\": [\n    {\n      \"column\": \"Reclama\\u00e7\\u00e3o\",\n      \"properties\": {\n        \"dtype\": \"string\",\n        \"num_unique_values\": 3,\n        \"samples\": [\n          \"N\\u00e3o\",\n          \"Sim\",\n          \"TOTAL\"\n        ],\n        \"semantic_type\": \"\",\n        \"description\": \"\"\n      }\n    },\n    {\n      \"column\": \"contagem\",\n      \"properties\": {\n        \"dtype\": \"number\",\n        \"std\": 368,\n        \"min\": 271,\n        \"max\": 1000,\n        \"num_unique_values\": 3,\n        \"samples\": [\n          729,\n          271,\n          1000\n        ],\n        \"semantic_type\": \"\",\n        \"description\": \"\"\n      }\n    },\n    {\n      \"column\": \"variancia\",\n      \"properties\": {\n        \"dtype\": \"number\",\n        \"std\": 0.19116807987237042,\n        \"min\": 5.131365313653134,\n        \"max\": 5.499423416090082,\n        \"num_unique_values\": 3,\n        \"samples\": [\n          5.499423416090082,\n          5.131365313653134,\n          5.40503603603604\n        ],\n        \"semantic_type\": \"\",\n        \"description\": \"\"\n      }\n    }\n  ]\n}"
            }
          },
          "metadata": {},
          "execution_count": 36
        }
      ]
    },
    {
      "cell_type": "code",
      "source": [
        "variancia_ponderada = (coef_det.loc[0, 'contagem'] * coef_det.loc[0, 'variancia'] + coef_det.loc[1, 'contagem'] * coef_det.loc[1, 'variancia']) / (coef_det.loc[0, 'contagem'] + coef_det.loc[1, 'contagem'])\n",
        "variancia_ponderada"
      ],
      "metadata": {
        "colab": {
          "base_uri": "https://localhost:8080/"
        },
        "id": "wU_ckUjkrR9I",
        "outputId": "471fb27c-4002-4062-f813-63339c0a57f0"
      },
      "execution_count": 37,
      "outputs": [
        {
          "output_type": "execute_result",
          "data": {
            "text/plain": [
              "np.float64(5.39967967032967)"
            ]
          },
          "metadata": {},
          "execution_count": 37
        }
      ]
    },
    {
      "cell_type": "code",
      "source": [
        "coef_det.loc[2, 'variancia']"
      ],
      "metadata": {
        "colab": {
          "base_uri": "https://localhost:8080/"
        },
        "id": "nK0uFtgjKkGy",
        "outputId": "324fc1c5-1dfc-4e8b-b2b5-b92d75bc1e31"
      },
      "execution_count": 39,
      "outputs": [
        {
          "output_type": "execute_result",
          "data": {
            "text/plain": [
              "np.float64(5.40503603603604)"
            ]
          },
          "metadata": {},
          "execution_count": 39
        }
      ]
    },
    {
      "cell_type": "code",
      "source": [
        "r2 = 1 - (variancia_ponderada / coef_det.loc[2, 'variancia'])\n",
        "r2"
      ],
      "metadata": {
        "colab": {
          "base_uri": "https://localhost:8080/"
        },
        "id": "_3-ZCOUiuabo",
        "outputId": "f7a8839c-bc22-4f26-853e-842ae30691f1"
      },
      "execution_count": 38,
      "outputs": [
        {
          "output_type": "execute_result",
          "data": {
            "text/plain": [
              "np.float64(0.0009909953736956245)"
            ]
          },
          "metadata": {},
          "execution_count": 38
        }
      ]
    },
    {
      "cell_type": "code",
      "source": [],
      "metadata": {
        "id": "Xw87DJ0Zua1m"
      },
      "execution_count": 38,
      "outputs": []
    }
  ]
}